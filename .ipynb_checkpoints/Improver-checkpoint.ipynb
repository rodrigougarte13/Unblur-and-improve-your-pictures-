{
 "cells": [
  {
   "cell_type": "markdown",
   "id": "8fc93690-bdf5-428b-928d-a2db9060ebc0",
   "metadata": {},
   "source": [
    "# Imports"
   ]
  },
  {
   "cell_type": "code",
   "execution_count": 1,
   "id": "8f3fa2a1-d08b-4157-9aa2-44921fd8674c",
   "metadata": {},
   "outputs": [],
   "source": [
    "import tensorflow as tf\n",
    "from tensorflow.keras.layers import Input, Conv2D, MaxPooling2D, UpSampling2D, Concatenate"
   ]
  },
  {
   "cell_type": "code",
   "execution_count": null,
   "id": "45ad2817-0730-4f34-b16e-aa6f077a1699",
   "metadata": {},
   "outputs": [],
   "source": [
    "def unet_model(input_size=(256, 256, 3)):\n",
    "    inputs = Input(input_size)\n",
    "\n",
    "    # Encoder\n",
    "    conv1 = Conv2D(64, 3, activation='relu', padding='same')(inputs)\n",
    "    conv1 = Conv2D(64, 3, activation='relu', padding='same')(conv1)\n",
    "    pool1 = MaxPooling2D(pool_size=(2, 2))(conv1)\n",
    "\n",
    "    conv2 = Conv2D(128, 3, activation='relu', padding='same')(pool1)\n",
    "    conv2 = Conv2D(128, 3, activation='relu', padding='same')(conv2)\n",
    "    pool2 = MaxPooling2D(pool_size=(2, 2))(conv2)\n",
    "\n",
    "    conv3 = Conv2D(256, 3, activation='relu', padding='same')(pool2)\n",
    "    conv3 = Conv2D(256, 3, activation='relu', padding='same')(conv3)\n",
    "    pool3 = MaxPooling2D(pool_size=(2, 2))(conv3)\n",
    "\n",
    "    conv4 = Conv2D(512, 3, activation='relu', padding='same')(pool3)\n",
    "    conv4 = Conv2D(512, 3, activation='relu', padding='same')(conv4)\n",
    "    pool4 = MaxPooling2D(pool_size=(2, 2))(conv4)\n",
    "\n",
    "    conv5 = Conv2D(1024, 3, activation='relu', padding='same')(pool4)\n",
    "    conv5 = Conv2D(1024, 3, activation='relu', padding='same')(conv5)\n",
    "\n",
    "    # Decoder\n",
    "    up6 = Concatenate()([UpSampling2D(size=(2, 2))(conv5), conv4])\n",
    "    conv6 = Conv2D(512, 3, activation='relu', padding='same')(up6)\n",
    "    conv6 = Conv2D(512, 3, activation='relu', padding='same')(conv6)\n",
    "\n",
    "    up7 = Concatenate()([UpSampling2D(size=(2, 2))(conv6), conv3])\n",
    "    conv7 = Conv2D(256, 3, activation='relu', padding='same')(up7)\n",
    "    conv7 = Conv2D(256, 3, activation='relu', padding='same')(conv7)\n",
    "\n",
    "    up8 = Concatenate()([UpSampling2D(size=(2, 2))(conv7), conv2])\n",
    "    conv8 = Conv2D(128, 3, activation='relu', padding='same')(up8)\n",
    "    conv8 = Conv2D(128, 3, activation='relu', padding='same')(conv8)\n",
    "\n",
    "    up9 = Concatenate()([UpSampling2D(size=(2, 2))(conv8), conv1])\n",
    "    conv9 = Conv2D(64, 3, activation='relu', padding='same')(up9)\n",
    "    conv9 = Conv2D(64, 3, activation='relu', padding='same')(conv9)\n",
    "\n",
    "    outputs = Conv2D(3, 1, activation='sigmoid')(conv9)\n",
    "\n",
    "    model = tf.keras.Model(inputs=[inputs], outputs=[outputs])\n",
    "\n",
    "    return model\n",
    "\n",
    "model = unet_model()\n",
    "model.compile(optimizer='adam', loss='mean_squared_error', metrics=['accuracy'])"
   ]
  },
  {
   "cell_type": "code",
   "execution_count": null,
   "id": "2bc0eccc-f503-438e-990a-0334e459d9ff",
   "metadata": {},
   "outputs": [],
   "source": [
    "model.fit(training_data, epochs=50, batch_size=16, validation_data=validation_data)"
   ]
  },
  {
   "cell_type": "markdown",
   "id": "12e05452-22d6-4991-801a-10ccc51eaff5",
   "metadata": {},
   "source": [
    "## TESTING HERE"
   ]
  },
  {
   "cell_type": "code",
   "execution_count": null,
   "id": "213bd150-fb00-411c-95ab-3de03e9a7896",
   "metadata": {},
   "outputs": [],
   "source": [
    "model.save('../model')"
   ]
  },
  {
   "cell_type": "code",
   "execution_count": null,
   "id": "8143dce7-3fb3-4eee-9eb1-7ee26d38f9c1",
   "metadata": {},
   "outputs": [],
   "source": [
    "from tensorflow.keras.models import load_model\n",
    "model = load_model('../model')"
   ]
  },
  {
   "cell_type": "code",
   "execution_count": null,
   "id": "e86e9b65-f53c-402d-8815-774f5cf2602e",
   "metadata": {},
   "outputs": [],
   "source": [
    "# Example: testing on a new image\n",
    "import numpy as np\n",
    "import cv2\n",
    "\n",
    "# Load a test image and preprocess it as needed\n",
    "test_image = cv2.imread('path/to/test/image.jpg')\n",
    "test_image = cv2.resize(test_image, (256, 256))  # Resize to the input size of the model\n",
    "test_image = test_image / 255.0  # Normalize if necessary\n",
    "test_image = np.expand_dims(test_image, axis=0)  # Add batch dimension\n",
    "\n",
    "# Predict the restored image\n",
    "restored_image = model.predict(test_image)\n",
    "\n",
    "# Postprocess and display the restored image\n",
    "restored_image = np.squeeze(restored_image)  # Remove batch dimension\n",
    "restored_image = restored_image * 255.0  # Denormalize if necessary\n",
    "restored_image = restored_image.astype(np.uint8)\n",
    "\n",
    "# Display the result\n",
    "cv2.imshow('Restored Image', restored_image)\n",
    "cv2.waitKey(0)\n",
    "cv2.destroyAllWindows()\n"
   ]
  }
 ],
 "metadata": {
  "kernelspec": {
   "display_name": "Python 3 (ipykernel)",
   "language": "python",
   "name": "python3"
  },
  "language_info": {
   "codemirror_mode": {
    "name": "ipython",
    "version": 3
   },
   "file_extension": ".py",
   "mimetype": "text/x-python",
   "name": "python",
   "nbconvert_exporter": "python",
   "pygments_lexer": "ipython3",
   "version": "3.11.7"
  }
 },
 "nbformat": 4,
 "nbformat_minor": 5
}
