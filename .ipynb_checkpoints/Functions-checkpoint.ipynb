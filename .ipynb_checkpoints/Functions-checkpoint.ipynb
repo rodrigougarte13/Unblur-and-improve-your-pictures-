{
 "cells": [
  {
   "cell_type": "markdown",
   "id": "e33ef319-368a-4dbe-9cda-80a1274305df",
   "metadata": {},
   "source": [
    "# Imports"
   ]
  },
  {
   "cell_type": "code",
   "execution_count": 1,
   "id": "71211169-8d28-4dcf-93b6-dd80e1c226e7",
   "metadata": {},
   "outputs": [
    {
     "name": "stdout",
     "output_type": "stream",
     "text": [
      "Collecting opencv-python-headless\n",
      "  Downloading opencv_python_headless-4.10.0.82-cp37-abi3-win_amd64.whl.metadata (20 kB)\n",
      "Requirement already satisfied: pillow in c:\\users\\rodri\\anaconda3\\lib\\site-packages (10.2.0)\n",
      "Requirement already satisfied: numpy in c:\\users\\rodri\\anaconda3\\lib\\site-packages (1.26.4)\n",
      "Downloading opencv_python_headless-4.10.0.82-cp37-abi3-win_amd64.whl (38.8 MB)\n",
      "   ---------------------------------------- 0.0/38.8 MB ? eta -:--:--\n",
      "   ---------------------------------------- 0.0/38.8 MB 1.3 MB/s eta 0:00:31\n",
      "   ---------------------------------------- 0.2/38.8 MB 2.3 MB/s eta 0:00:17\n",
      "   ---------------------------------------- 0.5/38.8 MB 3.5 MB/s eta 0:00:11\n",
      "    --------------------------------------- 0.8/38.8 MB 4.8 MB/s eta 0:00:08\n",
      "   - -------------------------------------- 1.3/38.8 MB 6.3 MB/s eta 0:00:06\n",
      "   - -------------------------------------- 1.8/38.8 MB 6.5 MB/s eta 0:00:06\n",
      "   -- ------------------------------------- 2.1/38.8 MB 7.1 MB/s eta 0:00:06\n",
      "   -- ------------------------------------- 2.6/38.8 MB 7.5 MB/s eta 0:00:05\n",
      "   --- ------------------------------------ 3.0/38.8 MB 7.7 MB/s eta 0:00:05\n",
      "   --- ------------------------------------ 3.4/38.8 MB 8.0 MB/s eta 0:00:05\n",
      "   --- ------------------------------------ 3.5/38.8 MB 7.1 MB/s eta 0:00:05\n",
      "   ---- ----------------------------------- 3.9/38.8 MB 7.3 MB/s eta 0:00:05\n",
      "   ---- ----------------------------------- 4.2/38.8 MB 7.3 MB/s eta 0:00:05\n",
      "   ---- ----------------------------------- 4.7/38.8 MB 7.6 MB/s eta 0:00:05\n",
      "   ----- ---------------------------------- 5.1/38.8 MB 7.6 MB/s eta 0:00:05\n",
      "   ----- ---------------------------------- 5.6/38.8 MB 7.8 MB/s eta 0:00:05\n",
      "   ------ --------------------------------- 6.2/38.8 MB 8.0 MB/s eta 0:00:05\n",
      "   ------ --------------------------------- 6.7/38.8 MB 8.2 MB/s eta 0:00:04\n",
      "   ------- -------------------------------- 7.2/38.8 MB 8.4 MB/s eta 0:00:04\n",
      "   ------- -------------------------------- 7.7/38.8 MB 8.5 MB/s eta 0:00:04\n",
      "   -------- ------------------------------- 8.2/38.8 MB 8.6 MB/s eta 0:00:04\n",
      "   --------- ------------------------------ 8.7/38.8 MB 8.7 MB/s eta 0:00:04\n",
      "   --------- ------------------------------ 9.2/38.8 MB 9.0 MB/s eta 0:00:04\n",
      "   --------- ------------------------------ 9.6/38.8 MB 8.9 MB/s eta 0:00:04\n",
      "   ---------- ----------------------------- 10.3/38.8 MB 9.2 MB/s eta 0:00:04\n",
      "   ----------- ---------------------------- 10.7/38.8 MB 9.8 MB/s eta 0:00:03\n",
      "   ----------- ---------------------------- 11.2/38.8 MB 9.8 MB/s eta 0:00:03\n",
      "   ------------ --------------------------- 11.7/38.8 MB 9.8 MB/s eta 0:00:03\n",
      "   ------------ --------------------------- 12.3/38.8 MB 9.9 MB/s eta 0:00:03\n",
      "   ------------- -------------------------- 12.8/38.8 MB 10.1 MB/s eta 0:00:03\n",
      "   ------------- -------------------------- 13.3/38.8 MB 10.1 MB/s eta 0:00:03\n",
      "   -------------- ------------------------- 13.7/38.8 MB 10.6 MB/s eta 0:00:03\n",
      "   -------------- ------------------------- 14.1/38.8 MB 10.7 MB/s eta 0:00:03\n",
      "   -------------- ------------------------- 14.4/38.8 MB 10.4 MB/s eta 0:00:03\n",
      "   --------------- ------------------------ 15.0/38.8 MB 10.6 MB/s eta 0:00:03\n",
      "   ---------------- ----------------------- 15.5/38.8 MB 10.7 MB/s eta 0:00:03\n",
      "   ---------------- ----------------------- 16.1/38.8 MB 10.7 MB/s eta 0:00:03\n",
      "   ----------------- ---------------------- 16.7/38.8 MB 10.9 MB/s eta 0:00:03\n",
      "   ----------------- ---------------------- 17.2/38.8 MB 10.7 MB/s eta 0:00:03\n",
      "   ------------------ --------------------- 17.7/38.8 MB 10.9 MB/s eta 0:00:02\n",
      "   ------------------ --------------------- 18.2/38.8 MB 11.1 MB/s eta 0:00:02\n",
      "   ------------------- -------------------- 18.9/38.8 MB 10.9 MB/s eta 0:00:02\n",
      "   -------------------- ------------------- 19.4/38.8 MB 10.9 MB/s eta 0:00:02\n",
      "   -------------------- ------------------- 19.9/38.8 MB 11.1 MB/s eta 0:00:02\n",
      "   --------------------- ------------------ 20.3/38.8 MB 11.1 MB/s eta 0:00:02\n",
      "   --------------------- ------------------ 20.8/38.8 MB 10.9 MB/s eta 0:00:02\n",
      "   ---------------------- ----------------- 21.5/38.8 MB 11.3 MB/s eta 0:00:02\n",
      "   ---------------------- ----------------- 22.0/38.8 MB 11.1 MB/s eta 0:00:02\n",
      "   ----------------------- ---------------- 22.6/38.8 MB 11.1 MB/s eta 0:00:02\n",
      "   ----------------------- ---------------- 23.1/38.8 MB 11.3 MB/s eta 0:00:02\n",
      "   ------------------------ --------------- 23.5/38.8 MB 10.9 MB/s eta 0:00:02\n",
      "   ------------------------ --------------- 24.0/38.8 MB 11.1 MB/s eta 0:00:02\n",
      "   ------------------------- -------------- 24.5/38.8 MB 11.5 MB/s eta 0:00:02\n",
      "   ------------------------- -------------- 25.1/38.8 MB 11.7 MB/s eta 0:00:02\n",
      "   -------------------------- ------------- 25.5/38.8 MB 11.5 MB/s eta 0:00:02\n",
      "   -------------------------- ------------- 25.9/38.8 MB 11.3 MB/s eta 0:00:02\n",
      "   --------------------------- ------------ 26.5/38.8 MB 11.3 MB/s eta 0:00:02\n",
      "   --------------------------- ------------ 27.0/38.8 MB 11.3 MB/s eta 0:00:02\n",
      "   ---------------------------- ----------- 27.5/38.8 MB 11.1 MB/s eta 0:00:02\n",
      "   ---------------------------- ----------- 28.1/38.8 MB 11.1 MB/s eta 0:00:01\n",
      "   ----------------------------- ---------- 28.6/38.8 MB 11.1 MB/s eta 0:00:01\n",
      "   ------------------------------ --------- 29.1/38.8 MB 11.1 MB/s eta 0:00:01\n",
      "   ------------------------------ --------- 29.6/38.8 MB 11.1 MB/s eta 0:00:01\n",
      "   ------------------------------- -------- 30.1/38.8 MB 10.9 MB/s eta 0:00:01\n",
      "   ------------------------------- -------- 30.8/38.8 MB 11.1 MB/s eta 0:00:01\n",
      "   -------------------------------- ------- 31.3/38.8 MB 11.3 MB/s eta 0:00:01\n",
      "   -------------------------------- ------- 31.8/38.8 MB 11.1 MB/s eta 0:00:01\n",
      "   --------------------------------- ------ 32.3/38.8 MB 11.1 MB/s eta 0:00:01\n",
      "   --------------------------------- ------ 32.9/38.8 MB 11.1 MB/s eta 0:00:01\n",
      "   ---------------------------------- ----- 33.3/38.8 MB 11.1 MB/s eta 0:00:01\n",
      "   ----------------------------------- ---- 34.0/38.8 MB 11.5 MB/s eta 0:00:01\n",
      "   ----------------------------------- ---- 34.4/38.8 MB 11.3 MB/s eta 0:00:01\n",
      "   ------------------------------------ --- 34.9/38.8 MB 11.1 MB/s eta 0:00:01\n",
      "   ------------------------------------ --- 35.4/38.8 MB 11.3 MB/s eta 0:00:01\n",
      "   ------------------------------------- -- 35.9/38.8 MB 11.3 MB/s eta 0:00:01\n",
      "   ------------------------------------- -- 36.2/38.8 MB 11.3 MB/s eta 0:00:01\n",
      "   ------------------------------------- -- 36.3/38.8 MB 10.7 MB/s eta 0:00:01\n",
      "   ------------------------------------- -- 36.5/38.8 MB 10.4 MB/s eta 0:00:01\n",
      "   ------------------------------------- -- 36.5/38.8 MB 10.4 MB/s eta 0:00:01\n",
      "   ------------------------------------- -- 36.6/38.8 MB 9.9 MB/s eta 0:00:01\n",
      "   -------------------------------------- - 36.8/38.8 MB 9.2 MB/s eta 0:00:01\n",
      "   -------------------------------------- - 37.0/38.8 MB 9.0 MB/s eta 0:00:01\n",
      "   -------------------------------------- - 37.5/38.8 MB 9.1 MB/s eta 0:00:01\n",
      "   ---------------------------------------  38.2/38.8 MB 9.0 MB/s eta 0:00:01\n",
      "   ---------------------------------------  38.7/38.8 MB 9.1 MB/s eta 0:00:01\n",
      "   ---------------------------------------  38.7/38.8 MB 9.1 MB/s eta 0:00:01\n",
      "   ---------------------------------------  38.7/38.8 MB 9.1 MB/s eta 0:00:01\n",
      "   ---------------------------------------- 38.8/38.8 MB 8.2 MB/s eta 0:00:00\n",
      "Installing collected packages: opencv-python-headless\n",
      "Successfully installed opencv-python-headless-4.10.0.82\n",
      "Note: you may need to restart the kernel to use updated packages.\n"
     ]
    }
   ],
   "source": [
    "pip install opencv-python-headless pillow numpy"
   ]
  },
  {
   "cell_type": "code",
   "execution_count": 2,
   "id": "1ac87b62-54e8-4690-be34-c8c697abd24a",
   "metadata": {},
   "outputs": [],
   "source": [
    "import os\n",
    "import shutil\n",
    "import numpy as np\n",
    "import cv2\n",
    "import random\n",
    "import warnings\n",
    "warnings.filterwarnings('ignore')\n",
    "warnings.filterwarnings(\"ignore\", category=DeprecationWarning, module=\"tensorflow\")"
   ]
  },
  {
   "cell_type": "markdown",
   "id": "cebabd42-7df9-4c46-9d86-dc24e343b9dd",
   "metadata": {},
   "source": [
    "## Blur, darken and augment photos"
   ]
  },
  {
   "cell_type": "code",
   "execution_count": 16,
   "id": "1799c804-8b0d-49a8-ad45-b9c52c297769",
   "metadata": {},
   "outputs": [],
   "source": [
    "# random blur\n",
    "def random_blur(image, min_ksize=5, max_ksize=45):\n",
    "    ksize = random.choice(range(min_ksize, max_ksize, 2))  # Kernel size should be odd and reasonably large\n",
    "    blurred_image = cv2.GaussianBlur(image, (ksize, ksize), 0)\n",
    "    return blurred_image\n",
    "\n",
    "# random darkening\n",
    "def random_darken(image, min_factor=0.3, max_factor=0.8):\n",
    "    factor = random.uniform(min_factor, max_factor)\n",
    "    darkened_image = np.clip(image * factor, 0, 255).astype(np.uint8)\n",
    "    return darkened_image\n",
    "\n",
    "def random_augmentation(image):\n",
    "    image = tf.image.random_flip_left_right(image, seed=17)\n",
    "    image = tf.image.random_flip_up_down(image, seed=17)\n",
    "    image = tf.image.rot90(image, tf.random.uniform(shape=[], minval=0, maxval=4, dtype=tf.int32, seed=17))\n",
    "    if image.shape[-1] == 3:\n",
    "        image = tf.keras.preprocessing.image.random_zoom(image, (0.75, 1.25))\n",
    "    image = tf.image.random_contrast(image, lower=0.5, upper=1.5, seed=17)\n",
    "    return augmented_image\n",
    "    \n",
    "def preprocess_image(image)\n",
    "    \n",
    "    random_blur(image, min_ksize=5, max_ksize=45)\n",
    "    random_darken(image, min_factor=0.3, max_factor=0.8)\n",
    "    random_augmentation(image)\n",
    "    \n",
    "    return final_image"
   ]
  },
  {
   "cell_type": "code",
   "execution_count": 17,
   "id": "57fd134f-4f82-4436-b643-98930b7af02c",
   "metadata": {},
   "outputs": [
    {
     "data": {
      "text/plain": [
       "True"
      ]
     },
     "execution_count": 17,
     "metadata": {},
     "output_type": "execute_result"
    }
   ],
   "source": [
    "image = cv2.imread('test.jpg')\n",
    "blurred_image = random_blur(image)\n",
    "darkened_image = random_darken(image)\n",
    "\n",
    "cv2.imwrite('blurred_test.jpg', blurred_image)\n",
    "cv2.imwrite('darkened_test.jpg', darkened_image)"
   ]
  },
  {
   "cell_type": "markdown",
   "id": "830df148-1843-40bc-b3da-dbce8daff7e1",
   "metadata": {},
   "source": [
    "# UNet Architecture"
   ]
  },
  {
   "cell_type": "code",
   "execution_count": 1,
   "id": "137c2cc9-9720-409b-8d98-77790badbc1a",
   "metadata": {},
   "outputs": [],
   "source": [
    "import tensorflow as tf\n",
    "from tensorflow.keras.layers import Input, Conv2D, MaxPooling2D, UpSampling2D, Concatenate"
   ]
  },
  {
   "cell_type": "code",
   "execution_count": null,
   "id": "d0efd58f-f367-4d78-8d7e-5f4e42be4875",
   "metadata": {},
   "outputs": [],
   "source": [
    "def unet_model(input_size=(256, 256, 3)):\n",
    "    inputs = Input(input_size)\n",
    "\n",
    "    # Encoder\n",
    "    conv1 = Conv2D(64, 3, activation='relu', padding='same')(inputs)\n",
    "    conv1 = Conv2D(64, 3, activation='relu', padding='same')(conv1)\n",
    "    pool1 = MaxPooling2D(pool_size=(2, 2))(conv1)\n",
    "\n",
    "    conv2 = Conv2D(128, 3, activation='relu', padding='same')(pool1)\n",
    "    conv2 = Conv2D(128, 3, activation='relu', padding='same')(conv2)\n",
    "    pool2 = MaxPooling2D(pool_size=(2, 2))(conv2)\n",
    "\n",
    "    conv3 = Conv2D(256, 3, activation='relu', padding='same')(pool2)\n",
    "    conv3 = Conv2D(256, 3, activation='relu', padding='same')(conv3)\n",
    "    pool3 = MaxPooling2D(pool_size=(2, 2))(conv3)\n",
    "\n",
    "    conv4 = Conv2D(512, 3, activation='relu', padding='same')(pool3)\n",
    "    conv4 = Conv2D(512, 3, activation='relu', padding='same')(conv4)\n",
    "    pool4 = MaxPooling2D(pool_size=(2, 2))(conv4)\n",
    "\n",
    "    conv5 = Conv2D(1024, 3, activation='relu', padding='same')(pool4)\n",
    "    conv5 = Conv2D(1024, 3, activation='relu', padding='same')(conv5)\n",
    "\n",
    "    # Decoder\n",
    "    up6 = Concatenate()([UpSampling2D(size=(2, 2))(conv5), conv4])\n",
    "    conv6 = Conv2D(512, 3, activation='relu', padding='same')(up6)\n",
    "    conv6 = Conv2D(512, 3, activation='relu', padding='same')(conv6)\n",
    "\n",
    "    up7 = Concatenate()([UpSampling2D(size=(2, 2))(conv6), conv3])\n",
    "    conv7 = Conv2D(256, 3, activation='relu', padding='same')(up7)\n",
    "    conv7 = Conv2D(256, 3, activation='relu', padding='same')(conv7)\n",
    "\n",
    "    up8 = Concatenate()([UpSampling2D(size=(2, 2))(conv7), conv2])\n",
    "    conv8 = Conv2D(128, 3, activation='relu', padding='same')(up8)\n",
    "    conv8 = Conv2D(128, 3, activation='relu', padding='same')(conv8)\n",
    "\n",
    "    up9 = Concatenate()([UpSampling2D(size=(2, 2))(conv8), conv1])\n",
    "    conv9 = Conv2D(64, 3, activation='relu', padding='same')(up9)\n",
    "    conv9 = Conv2D(64, 3, activation='relu', padding='same')(conv9)\n",
    "\n",
    "    outputs = Conv2D(3, 1, activation='sigmoid')(conv9)\n",
    "\n",
    "    model = tf.keras.Model(inputs=[inputs], outputs=[outputs])\n",
    "\n",
    "    return model\n",
    "\n",
    "model = unet_model()\n",
    "model.compile(optimizer='adam', loss='mean_squared_error', metrics=['accuracy'])"
   ]
  },
  {
   "cell_type": "code",
   "execution_count": null,
   "id": "2e23393c-43e2-4892-9257-39a93920b15a",
   "metadata": {},
   "outputs": [],
   "source": [
    "model.fit(training_data, epochs=50, batch_size=16, validation_data=validation_data)"
   ]
  },
  {
   "cell_type": "markdown",
   "id": "9aab4197-78ef-4cd0-a9a9-baa8d8e4898a",
   "metadata": {},
   "source": [
    "## TESTING HERE"
   ]
  },
  {
   "cell_type": "code",
   "execution_count": null,
   "id": "503ed604-2e66-43a1-a020-101ddcbf50f0",
   "metadata": {},
   "outputs": [],
   "source": [
    "model.save('../model')"
   ]
  },
  {
   "cell_type": "code",
   "execution_count": null,
   "id": "b3cf6ab9-21c4-4f0b-863f-b78cfb4119b5",
   "metadata": {},
   "outputs": [],
   "source": [
    "from tensorflow.keras.models import load_model\n",
    "model = load_model('../model')"
   ]
  },
  {
   "cell_type": "code",
   "execution_count": null,
   "id": "addd2f05-96a3-4827-8520-b4639ad52ac4",
   "metadata": {},
   "outputs": [],
   "source": [
    "# Example: testing on a new image\n",
    "import numpy as np\n",
    "import cv2\n",
    "\n",
    "# Load a test image and preprocess it as needed\n",
    "test_image = cv2.imread('path/to/test/image.jpg')\n",
    "test_image = cv2.resize(test_image, (256, 256))  # Resize to the input size of the model\n",
    "test_image = test_image / 255.0  # Normalize if necessary\n",
    "test_image = np.expand_dims(test_image, axis=0)  # Add batch dimension\n",
    "\n",
    "# Predict the restored image\n",
    "restored_image = model.predict(test_image)\n",
    "\n",
    "# Postprocess and display the restored image\n",
    "restored_image = np.squeeze(restored_image)  # Remove batch dimension\n",
    "restored_image = restored_image * 255.0  # Denormalize if necessary\n",
    "restored_image = restored_image.astype(np.uint8)\n",
    "\n",
    "# Display the result\n",
    "cv2.imshow('Restored Image', restored_image)\n",
    "cv2.waitKey(0)\n",
    "cv2.destroyAllWindows()"
   ]
  }
 ],
 "metadata": {
  "kernelspec": {
   "display_name": "Python 3 (ipykernel)",
   "language": "python",
   "name": "python3"
  },
  "language_info": {
   "codemirror_mode": {
    "name": "ipython",
    "version": 3
   },
   "file_extension": ".py",
   "mimetype": "text/x-python",
   "name": "python",
   "nbconvert_exporter": "python",
   "pygments_lexer": "ipython3",
   "version": "3.11.7"
  }
 },
 "nbformat": 4,
 "nbformat_minor": 5
}
