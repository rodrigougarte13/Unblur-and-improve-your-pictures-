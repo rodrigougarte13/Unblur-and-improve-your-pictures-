{
 "cells": [
  {
   "cell_type": "code",
   "execution_count": null,
   "id": "341f5dcf-b291-4097-899e-9a30e667ae68",
   "metadata": {},
   "outputs": [],
   "source": [
    "from flask import Flask, request, jsonify\n",
    "from tensorflow.keras.models import load_model\n",
    "import numpy as np\n",
    "import cv2\n",
    "\n",
    "app = Flask(__name__)\n",
    "model = load_model('path/to/save/your/model')\n",
    "\n",
    "@app.route('/predict', methods=['POST'])\n",
    "def predict():\n",
    "    file = request.files['image']\n",
    "    image = cv2.imdecode(np.fromstring(file.read(), np.uint8), cv2.IMREAD_COLOR)\n",
    "    image = cv2.resize(image, (256, 256))\n",
    "    image = image / 255.0\n",
    "    image = np.expand_dims(image, axis=0)\n",
    "    \n",
    "    restored_image = model.predict(image)\n",
    "    restored_image = np.squeeze(restored_image)\n",
    "    restored_image = restored_image * 255.0\n",
    "    restored_image = restored_image.astype(np.uint8)\n",
    "\n",
    "    _, buffer = cv2.imencode('.jpg', restored_image)\n",
    "    restored_image_bytes = buffer.tobytes()\n",
    "\n",
    "    response = {\n",
    "        'restored_image': restored_image_bytes\n",
    "    }\n",
    "    return jsonify(response)\n",
    "\n",
    "if __name__ == '__main__':\n",
    "    app.run(debug=True)"
   ]
  }
 ],
 "metadata": {
  "kernelspec": {
   "display_name": "Python 3 (ipykernel)",
   "language": "python",
   "name": "python3"
  },
  "language_info": {
   "codemirror_mode": {
    "name": "ipython",
    "version": 3
   },
   "file_extension": ".py",
   "mimetype": "text/x-python",
   "name": "python",
   "nbconvert_exporter": "python",
   "pygments_lexer": "ipython3",
   "version": "3.11.7"
  }
 },
 "nbformat": 4,
 "nbformat_minor": 5
}
